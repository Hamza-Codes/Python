{
 "cells": [
  {
   "cell_type": "markdown",
   "metadata": {},
   "source": [
    "### 11. Extract Text From PDF with Python\n",
    "\n",
    "Sometimes a Python developer needs to collect some text information from PDF files. So extracting text from a PDF is a problem you should know how to solve as a Python developer. \n",
    "\n",
    "This skill is useful when working with resumes. Extracting text from a pdf file is not a difficult task at all. For this task, you need to install a Python library known as PyPDF2."
   ]
  },
  {
   "cell_type": "code",
   "execution_count": null,
   "metadata": {},
   "outputs": [],
   "source": [
    "pip install pypdf2"
   ]
  },
  {
   "cell_type": "code",
   "execution_count": null,
   "metadata": {},
   "outputs": [],
   "source": [
    "import PyPDF2\n",
    "pdf = open(\"Professional CV Resume.pdf\",\"rb\")\n",
    "reader = PyPDF2.PdfFileReader(pdf)\n",
    "page = reader.getPage(0)\n",
    "print(page.extractText())"
   ]
  },
  {
   "cell_type": "markdown",
   "metadata": {},
   "source": [
    "### 12. Reverse a String using Python\n",
    "\n",
    "A string is a sequence of characters enclosed in single or double-quotes. String inversion is one of the most common problems in computer science. "
   ]
  },
  {
   "cell_type": "code",
   "execution_count": null,
   "metadata": {},
   "outputs": [],
   "source": [
    "def reverse_string(string):\n",
    "    return string[::-1]\n",
    "\n",
    "a = \"Hamza Ayaz\"\n",
    "reverse_string(a)"
   ]
  },
  {
   "cell_type": "markdown",
   "metadata": {},
   "source": [
    "### 13. SequenceMatcher in Python\n",
    "\n",
    "SequenceMatcher is a class in Python available in the difflib module, which provides functions for comparing sequences in two different pieces of text. So whenever you want to compare two text files, you can explore the difflib module in Python.\n",
    "\n",
    "The SequenceMatcher class is available in the difflib module in Python, which is available in the Python standard library. You do not have to install it before using it. There are many classes in the difflib module to compare texts. One of those classes is SequenceMatcher which calculates how well the sequence of two texts matches each other. In simple words, it finds similarities in the sequence of two different texts."
   ]
  },
  {
   "cell_type": "code",
   "execution_count": null,
   "metadata": {},
   "outputs": [],
   "source": [
    "from difflib import SequenceMatcher\n",
    "text1 = \"My name is M. Ameer Hamza\"\n",
    "text2 = \"Hi, My name is M. Ameer Hamza\"\n",
    "SequenceScore = SequenceMatcher(None, text1,text2).ratio()\n",
    "print(f\"Both are {SequenceScore * 100} % similar\")"
   ]
  },
  {
   "cell_type": "markdown",
   "metadata": {},
   "source": [
    "### 14. QR Code using Python\n",
    "\n",
    "A QR Code is a scannable code used to store information. QR codes are used to redirect you to a specific page or to show you some information. QR codes have a variety of uses; from creating a payment gateway to showing you the food menu of a restaurant, a QR code is being used in several ways. Over the past five years, several businesses have started that are only based on creating QR codes for a business.\n",
    "\n",
    "\n",
    "So to create QR codes using the Python programming language, you first need to make sure that you have the PyQRCode and pypng modules installed in your Python virtual environment. "
   ]
  },
  {
   "cell_type": "code",
   "execution_count": null,
   "metadata": {},
   "outputs": [],
   "source": [
    "pip install PyQRCode"
   ]
  },
  {
   "cell_type": "code",
   "execution_count": null,
   "metadata": {},
   "outputs": [],
   "source": [
    "pip install pypng"
   ]
  },
  {
   "cell_type": "code",
   "execution_count": null,
   "metadata": {},
   "outputs": [],
   "source": [
    "import pyqrcode\n",
    "import png\n",
    "\n",
    "link = \"https://www.instagram.com/the.clever.programmer/\"\n",
    "qr_code = pyqrcode.create(link)\n",
    "qr_code.png(\"Instagram.png\",scale=5)"
   ]
  },
  {
   "cell_type": "markdown",
   "metadata": {},
   "source": [
    "### 15. Decode a QR Code using Python\n",
    "Decoding a QR code means finding the value, number, text or link behind the QR code. There are many ways to decode a QR code used by your smartphone cameras. \n",
    "\n",
    "To decode a QR code, you need an image of a QR code.\n",
    "\n",
    "For decoding QR codes using Python, you need to install two Python libraries in your Python environment; pyzbar and pillow."
   ]
  },
  {
   "cell_type": "code",
   "execution_count": null,
   "metadata": {},
   "outputs": [],
   "source": [
    "pip install Cmake"
   ]
  },
  {
   "cell_type": "code",
   "execution_count": null,
   "metadata": {},
   "outputs": [],
   "source": [
    "pip install zbar"
   ]
  },
  {
   "cell_type": "code",
   "execution_count": null,
   "metadata": {},
   "outputs": [],
   "source": [
    "pip install pyzbar"
   ]
  },
  {
   "cell_type": "code",
   "execution_count": null,
   "metadata": {},
   "outputs": [],
   "source": [
    "pip install pillow"
   ]
  },
  {
   "cell_type": "code",
   "execution_count": null,
   "metadata": {},
   "outputs": [],
   "source": [
    "from pyzbar.pyzbar import decode\n",
    "from PIL import Image\n",
    "decocdeQR = decode(Image.open('instagram.png'))\n",
    "print(decocdeQR[0].data.decode('ascii'))"
   ]
  },
  {
   "cell_type": "markdown",
   "metadata": {},
   "source": [
    "### 16. Create Dummy Data using Python\n",
    "\n",
    "We can either download a dataset from Kaggle or create fake data. To create dummy data using Python, we can use the faker library. The faker library generates fake data randomly. "
   ]
  },
  {
   "cell_type": "code",
   "execution_count": null,
   "metadata": {},
   "outputs": [],
   "source": [
    "pip install faker"
   ]
  },
  {
   "cell_type": "code",
   "execution_count": null,
   "metadata": {},
   "outputs": [],
   "source": [
    "from faker import Faker\n",
    "fake = Faker()\n",
    "print(fake.name())\n",
    "print(fake.address())\n",
    "print(fake.text())\n"
   ]
  },
  {
   "cell_type": "markdown",
   "metadata": {},
   "source": [
    "### 17. Remove Cuss Words using Python\n",
    "\n",
    "Cuss Words are the words that make your language sound very impolite, rude, and culturally offensive. Sometimes we need to identify and remove cuss words from a piece of text.\n",
    "\n",
    "In a research, it was found that on an average, 80-90 words that a person speaks every day, 50-70% of all the words are cuss words. So it means people find it normal while exchanging conversations with cuss words. But sometimes, we need to remove such words from a piece of text to make it available to the audience of every age group.\n",
    "\n",
    "So to remove cuss words, by using the Python programming language, we need to install the better_profanity library in our Python environment. It helps identify and remove the cuss words by inserting the * symbol in each letter of a cuss word."
   ]
  },
  {
   "cell_type": "code",
   "execution_count": null,
   "metadata": {},
   "outputs": [],
   "source": [
    "pip install better_profanity"
   ]
  },
  {
   "cell_type": "code",
   "execution_count": null,
   "metadata": {},
   "outputs": [],
   "source": [
    "from better_profanity import profanity\n",
    "text = \"Please leave me alone. Just piss off! Damn you, you idiot!\"\n",
    "censored = profanity.censor(text)\n",
    "print(censored)"
   ]
  },
  {
   "cell_type": "markdown",
   "metadata": {},
   "source": [
    "### 18. Find Duplicate Values using Python\n",
    "\n",
    "Finding duplicate values from an array or any other data structure is one of the popular coding interview questions that you can get in any coding interview. The Python programming language provides many inbuilt functions to find the duplicate values, but in a coding interview, you should use an algorithm instead of an inbuilt function."
   ]
  },
  {
   "cell_type": "code",
   "execution_count": null,
   "metadata": {},
   "outputs": [],
   "source": [
    "def find_duplicates(x):\n",
    "    length = len(x)\n",
    "    duplicates = []\n",
    "    for i in range(length):\n",
    "        n = i+1\n",
    "        for a in range(n,length):\n",
    "            if x[i] == x[a] and x[i] not in duplicates:\n",
    "                duplicates.append(x[i])\n",
    "    return duplicates\n",
    "\n",
    "names = [\"Aman\", \"Akanksha\", \"Divyansha\", \"Devyansh\", \n",
    "         \"Aman\", \"Diksha\", \"Akanksha\"]\n",
    "print(find_duplicates(names))"
   ]
  },
  {
   "cell_type": "markdown",
   "metadata": {},
   "source": [
    "### 19. Detect Questions using Python\n",
    "Detecting questions means identifying whether a sentence is interrogative or not. We can also use machine learning to detect questions, but since we all know the type of sentences we see in an interrogative sentence, it is also possible to write a Python script to detect whether a sentence is a question or not.\n",
    "\n",
    "To write a Python program to detect whether a sentence is a question or not, we first need to create a list of words that we see at the start of an interrogative sentence. For example, what is your name? where do you live?, in these two questions, “what” and “where” are the types of words we need to store in a python list. Next, to check if a sentence is a question or not, we need to check if any word from the list is present at the beginning of the sentence. If it is present, then the sentence is a question, and if it is not present, then the sentence is not a question.\n",
    "\n"
   ]
  },
  {
   "cell_type": "code",
   "execution_count": null,
   "metadata": {},
   "outputs": [],
   "source": [
    "pip install nltk"
   ]
  },
  {
   "cell_type": "code",
   "execution_count": null,
   "metadata": {},
   "outputs": [],
   "source": [
    "from nltk.tokenize import word_tokenize\n",
    "question_words = [\"what\", \"why\", \"when\", \"where\", \n",
    "             \"name\", \"is\", \"how\", \"do\", \"does\", \n",
    "             \"which\", \"are\", \"could\", \"would\", \n",
    "             \"should\", \"has\", \"have\", \"whom\", \"whose\", \"don't\"]\n",
    "\n",
    "question = input(\"Input a sentence: \")\n",
    "question = question.lower()\n",
    "question = word_tokenize(question)\n",
    "\n",
    "if any(x in question[0] for x in question_words):\n",
    "    print(\"This is a question!\")\n",
    "else:\n",
    "    print(\"This is not a question!\")"
   ]
  },
  {
   "cell_type": "markdown",
   "metadata": {},
   "source": [
    "### 20. Voice Recorder using Python\n",
    "\n",
    "A voice recorder is found in every smartphone and computer today. It is an application that is used to record sound and save it in a specific file format, which can be listened to and transferred to another device.\n",
    "\n",
    "To create a voice recorder using the Python programming language, you need to use the sounddevice library in Python. "
   ]
  },
  {
   "cell_type": "code",
   "execution_count": null,
   "metadata": {},
   "outputs": [],
   "source": [
    "pip install scipy"
   ]
  },
  {
   "cell_type": "code",
   "execution_count": null,
   "metadata": {},
   "outputs": [],
   "source": [
    "pip install sounddevice"
   ]
  },
  {
   "cell_type": "code",
   "execution_count": null,
   "metadata": {},
   "outputs": [],
   "source": [
    "import sounddevice\n",
    "from scipy.io.wavfile import write\n",
    "\n",
    "def voice_recorder(seconds, file):\n",
    "    print(\"Recording Started…\")\n",
    "    recording = sounddevice.rec((seconds * 44100), samplerate= 44100, channels=2)\n",
    "    sounddevice.wait()\n",
    "    write(file, 44100, recording)\n",
    "    print(\"Recording Finished\")\n",
    "\n",
    "voice_recorder(10, \"record.wav\")"
   ]
  },
  {
   "cell_type": "markdown",
   "metadata": {},
   "source": [
    "### 21. Reading and Writing CSV Files using Python\n",
    "\n",
    "CSV (Comma Separated Values) files are the most commonly used file format for importing and exporting big datasets. The reason why a CSV file is preferred over an Excel file is that a CSV file consumes less memory as compared to an Excel file.\n",
    "\n",
    "You can read and write a CSV file without using any Python module or a library. But as we use the pandas library to work with data."
   ]
  },
  {
   "cell_type": "code",
   "execution_count": null,
   "metadata": {},
   "outputs": [],
   "source": [
    "# writing a csv file\n",
    "import csv\n",
    "import pandas as pd\n",
    "\n",
    "data = {\"Name\": [\"Hamza\", \"Hanfa\", \"Honey\", \"Fayyaz\", \"Amna\"], \n",
    "        \"Age\": [23, 21, 25, 23, 22]}\n",
    "\n",
    "print(\"Dictionary\",data)        \n",
    "\n",
    "data = pd.DataFrame(data)\n",
    "\n",
    "data.to_csv(\"age_data.csv\", index=False)\n",
    "\n",
    "print(data.head())"
   ]
  },
  {
   "cell_type": "code",
   "execution_count": null,
   "metadata": {},
   "outputs": [],
   "source": [
    "# reading a csv file\n",
    "\n",
    "data = pd.read_csv(\"age_data.csv\")\n",
    "print(data.head())"
   ]
  },
  {
   "cell_type": "markdown",
   "metadata": {},
   "source": [
    "### 22. Box Plot using Python\n",
    "\n",
    "A box plot is a statistical data visualization technique for analyzing the distribution and patterns of numerical data points of a dataset. It represents quartile 1, quartile 3, median, maximum and minimum data points of a feature which helps to understand the distribution of the numerical values of a dataset.\n",
    "\n",
    "\n",
    "The box portion of a box plot contains three lines:\n",
    "\n",
    "1. The first line in the top represents quartile 3 of the data points, which means that 75% of the data lies below this point;\n",
    "\n",
    "2. The second line in the middle represents the median value of the data points, which means that 50% of the data lies below this point;\n",
    "\n",
    "3. The third line in the box plot represents quartile 1 of the data points, which means that 25% of the data lies below this point;\n",
    "   \n",
    "4. The two horizontal lines below and above the box are known as whisker lines, the above whisker represents maximum value, and the lower whisker represents minimum value.\n"
   ]
  },
  {
   "cell_type": "code",
   "execution_count": null,
   "metadata": {},
   "outputs": [],
   "source": [
    "import pandas as pd\n",
    "data = pd.read_csv(\"https://raw.githubusercontent.com/amankharwal/Website-data/master/Advertising.csv\")\n",
    "print(data.head())"
   ]
  },
  {
   "cell_type": "code",
   "execution_count": null,
   "metadata": {},
   "outputs": [],
   "source": [
    "import plotly.express as px\n",
    "\n",
    "fig = px.box(data,y=\"TV\")\n",
    "fig.show()"
   ]
  },
  {
   "cell_type": "markdown",
   "metadata": {},
   "source": [
    "### 23. Send Instagram Messages using Python\n",
    "\n",
    "By using a third-party application or API to manage the functionality of an application, you are automating the application. If you send messages, post photos or videos, or follow someone without opening your Instagram directly, that means you are automating Instagram. \n",
    "\n",
    "To send Instagram message using Python, you need to have an Instagram account and the instabot library installed in your Python virtual environment. Instabot is a Python library that you can use to automate features of your Instagram account using Python, like sending messages without even opening your application."
   ]
  },
  {
   "cell_type": "code",
   "execution_count": null,
   "metadata": {},
   "outputs": [],
   "source": [
    "pip install instabot"
   ]
  },
  {
   "cell_type": "code",
   "execution_count": null,
   "metadata": {},
   "outputs": [],
   "source": [
    "from instabot import Bot\n",
    "bot = Bot()\n",
    "\n",
    "bot.login(username=\"cosmiceqn\",password=\"*******\")\n",
    "bot.send_message(\"Hi there\",[\"abc\"])"
   ]
  },
  {
   "cell_type": "code",
   "execution_count": null,
   "metadata": {},
   "outputs": [],
   "source": []
  },
  {
   "cell_type": "code",
   "execution_count": null,
   "metadata": {},
   "outputs": [],
   "source": []
  },
  {
   "cell_type": "code",
   "execution_count": null,
   "metadata": {},
   "outputs": [],
   "source": []
  },
  {
   "cell_type": "code",
   "execution_count": null,
   "metadata": {},
   "outputs": [],
   "source": []
  },
  {
   "cell_type": "code",
   "execution_count": null,
   "metadata": {},
   "outputs": [],
   "source": []
  },
  {
   "cell_type": "code",
   "execution_count": null,
   "metadata": {},
   "outputs": [],
   "source": []
  },
  {
   "cell_type": "code",
   "execution_count": null,
   "metadata": {},
   "outputs": [],
   "source": []
  },
  {
   "cell_type": "code",
   "execution_count": null,
   "metadata": {},
   "outputs": [],
   "source": []
  },
  {
   "cell_type": "code",
   "execution_count": null,
   "metadata": {},
   "outputs": [],
   "source": []
  },
  {
   "cell_type": "code",
   "execution_count": null,
   "metadata": {},
   "outputs": [],
   "source": []
  },
  {
   "cell_type": "code",
   "execution_count": null,
   "metadata": {},
   "outputs": [],
   "source": []
  },
  {
   "cell_type": "code",
   "execution_count": null,
   "metadata": {},
   "outputs": [],
   "source": []
  },
  {
   "cell_type": "code",
   "execution_count": null,
   "metadata": {},
   "outputs": [],
   "source": []
  },
  {
   "cell_type": "code",
   "execution_count": null,
   "metadata": {},
   "outputs": [],
   "source": []
  },
  {
   "cell_type": "code",
   "execution_count": null,
   "metadata": {},
   "outputs": [],
   "source": []
  },
  {
   "cell_type": "code",
   "execution_count": null,
   "metadata": {},
   "outputs": [],
   "source": []
  },
  {
   "cell_type": "code",
   "execution_count": null,
   "metadata": {},
   "outputs": [],
   "source": []
  },
  {
   "cell_type": "code",
   "execution_count": null,
   "metadata": {},
   "outputs": [],
   "source": []
  },
  {
   "cell_type": "code",
   "execution_count": null,
   "metadata": {},
   "outputs": [],
   "source": []
  },
  {
   "cell_type": "code",
   "execution_count": null,
   "metadata": {},
   "outputs": [],
   "source": []
  },
  {
   "cell_type": "code",
   "execution_count": null,
   "metadata": {},
   "outputs": [],
   "source": []
  },
  {
   "cell_type": "markdown",
   "metadata": {},
   "source": []
  }
 ],
 "metadata": {
  "kernelspec": {
   "display_name": "Python 3.10.4 64-bit",
   "language": "python",
   "name": "python3"
  },
  "language_info": {
   "codemirror_mode": {
    "name": "ipython",
    "version": 3
   },
   "file_extension": ".py",
   "mimetype": "text/x-python",
   "name": "python",
   "nbconvert_exporter": "python",
   "pygments_lexer": "ipython3",
   "version": "3.10.4"
  },
  "orig_nbformat": 4,
  "vscode": {
   "interpreter": {
    "hash": "aee8b7b246df8f9039afb4144a1f6fd8d2ca17a180786b69acc140d282b71a49"
   }
  }
 },
 "nbformat": 4,
 "nbformat_minor": 2
}
